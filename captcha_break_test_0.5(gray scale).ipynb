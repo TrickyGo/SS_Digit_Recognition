{
 "cells": [
  {
   "cell_type": "code",
   "execution_count": 32,
   "metadata": {
    "colab": {},
    "colab_type": "code",
    "id": "9Dq42Ln0deZR"
   },
   "outputs": [],
   "source": [
    "# !pip freeze -> requirements.txt\n",
    "import matplotlib.pyplot as plt\n",
    "import numpy as np\n",
    "import random\n",
    "import tensorflow as tf\n",
    "import tensorflow.keras.backend as K\n",
    "from PIL import Image\n",
    "import os\n",
    "import string\n",
    "import matplotlib.image as mpimg\n",
    "%matplotlib inline\n",
    "%config InlineBackend.figure_format = 'retina'"
   ]
  },
  {
   "cell_type": "code",
   "execution_count": 47,
   "metadata": {
    "colab": {},
    "colab_type": "code",
    "id": "A3QpC1Efd0Yp"
   },
   "outputs": [
    {
     "name": "stdout",
     "output_type": "stream",
     "text": [
      "(500, 37, 120, 1)\n"
     ]
    },
    {
     "data": {
      "text/plain": [
       "Text(0.5, 1.0, '7713')"
      ]
     },
     "execution_count": 47,
     "metadata": {},
     "output_type": "execute_result"
    },
    {
     "data": {
      "image/png": "[encoded data removed]",
      "text/plain": [
       "<Figure size 432x288 with 1 Axes>"
      ]
     },
     "metadata": {
      "image/png": {
       "height": 149,
       "width": 369
      },
      "needs_background": "light"
     },
     "output_type": "display_data"
    }
   ],
   "source": [
    "#hyperparameters\n",
    "characters = string.digits\n",
    "width, height, n_len, n_class = 120, 37, 4, len(characters)\n",
    "\n",
    "#img_path\n",
    "train_img_path = [\"train\\\\captcha-\" + str(i) for i in range(1,6)]\n",
    "img_list = [os.listdir(train_img_path[i]) for i in range(5)]\n",
    "\n",
    "#tf config\n",
    "config = tf.ConfigProto()\n",
    "config.gpu_options.allow_growth=True\n",
    "sess = tf.Session(config=config)\n",
    "K.set_session(sess)\n",
    "\n",
    "#get trainning batch\n",
    "def get_batch(characters, batch_size, n_len, n_class, width, height):\n",
    "    \n",
    "    X = np.zeros((batch_size, height, width, 1), dtype=np.float32)\n",
    "    y = [np.zeros((batch_size, n_class), dtype=np.uint8) for i in range(n_len)]\n",
    "\n",
    "    for i in range(batch_size): \n",
    "    \n",
    "        rand = random.randint(0,4)\n",
    "        img_name = random.choice(img_list[rand])\n",
    "        img_file = os.path.join(train_img_path[rand], img_name)\n",
    "        img = Image.open(img_file).convert('L')\n",
    "        img = img.resize((width, height))\n",
    "        X[i] = np.array(img).reshape(height,width,1) / 255.0\n",
    "        for j, ch in enumerate(img_name[:4]):\n",
    "            y[j][i, :] = 0\n",
    "            y[j][i, characters.find(ch)] = 1  \n",
    "           \n",
    "    return X, y\n",
    "      \n",
    "#show results       \n",
    "def decode(y):\n",
    "    y = np.argmax(np.array(y), axis=2)[:,0]\n",
    "    return ''.join([characters[x] for x in y])\n",
    "\n",
    "#test above code\n",
    "X,y = get_batch(characters, 500, n_len, n_class, width, height)\n",
    "print(X.shape)\n",
    "plt.imshow(X[0].reshape(height,width), cmap='gray')\n",
    "plt.title(decode(y))"
   ]
  },
  {
   "cell_type": "code",
   "execution_count": 49,
   "metadata": {
    "colab": {},
    "colab_type": "code",
    "id": "g8g4NIB-eaSL"
   },
   "outputs": [],
   "source": [
    "#define model\n",
    "from tensorflow.keras.models import *\n",
    "from tensorflow.keras.layers import *\n",
    "\n",
    "input_tensor = Input((height, width, 1))\n",
    "x = input_tensor\n",
    "for i, n_cnn in enumerate([2, 2, 2, 2, 2]):\n",
    "    for j in range(n_cnn):\n",
    "        x = Conv2D(32*2**min(i, 3), kernel_size=3, padding='same', kernel_initializer='he_uniform')(x)\n",
    "        x = BatchNormalization()(x)\n",
    "        x = Activation('relu')(x)\n",
    "    x = MaxPooling2D(2)(x)\n",
    "\n",
    "x = Flatten()(x)\n",
    "x = [Dense(n_class, activation='softmax', name='c%d'%(i+1))(x) for i in range(n_len)]\n",
    "model = Model(inputs=input_tensor, outputs=x)"
   ]
  },
  {
   "cell_type": "code",
   "execution_count": 50,
   "metadata": {
    "colab": {},
    "colab_type": "code",
    "id": "KJ8gnWJ1ejZi"
   },
   "outputs": [],
   "source": [
    "#train\n",
    "def train_model(model):\n",
    "    from tensorflow.keras.callbacks import EarlyStopping, CSVLogger, ModelCheckpoint\n",
    "    from tensorflow.keras.optimizers import Adam\n",
    "\n",
    "    callbacks = [EarlyStopping(patience=3), CSVLogger('cnn.csv'), ModelCheckpoint('cnn_best.h5', save_best_only=True)]\n",
    "\n",
    "    model.compile(loss='categorical_crossentropy',\n",
    "                  optimizer=Adam(1e-3, amsgrad=True), \n",
    "                  metrics=['accuracy'])\n",
    "\n",
    "    X_train,y_train = get_batch(characters, 2000, n_len, n_class, width, height)\n",
    "    model.fit(X_train, y_train, validation_split=0.1 ,epochs=10, batch_size=128, workers=4, use_multiprocessing=True, callbacks=callbacks)   \n",
    "    return model"
   ]
  },
  {
   "cell_type": "code",
   "execution_count": 51,
   "metadata": {},
   "outputs": [
    {
     "name": "stdout",
     "output_type": "stream",
     "text": [
      "Train on 1800 samples, validate on 200 samples\n",
      "Epoch 1/10\n",
      "1800/1800 [==============================] - 41s 23ms/sample - loss: 10.5317 - c1_loss: 2.7431 - c2_loss: 2.6001 - c3_loss: 2.5964 - c4_loss: 2.5156 - c1_acc: 0.0939 - c2_acc: 0.1011 - c3_acc: 0.0967 - c4_acc: 0.1117 - val_loss: 41.2272 - val_c1_loss: 10.4270 - val_c2_loss: 6.4451 - val_c3_loss: 15.8389 - val_c4_loss: 8.5020 - val_c1_acc: 0.0850 - val_c2_acc: 0.1150 - val_c3_acc: 0.1050 - val_c4_acc: 0.1000\n",
      "Epoch 2/10\n",
      "1800/1800 [==============================] - 37s 20ms/sample - loss: 9.4121 - c1_loss: 2.3383 - c2_loss: 2.3706 - c3_loss: 2.3306 - c4_loss: 2.3691 - c1_acc: 0.1228 - c2_acc: 0.1256 - c3_acc: 0.1294 - c4_acc: 0.1228 - val_loss: 17.7180 - val_c1_loss: 3.5505 - val_c2_loss: 4.1151 - val_c3_loss: 3.3978 - val_c4_loss: 6.5129 - val_c1_acc: 0.1000 - val_c2_acc: 0.0800 - val_c3_acc: 0.1050 - val_c4_acc: 0.1000\n",
      "Epoch 3/10\n",
      "1800/1800 [==============================] - 37s 20ms/sample - loss: 9.1832 - c1_loss: 2.2738 - c2_loss: 2.2872 - c3_loss: 2.2870 - c4_loss: 2.3150 - c1_acc: 0.1567 - c2_acc: 0.1289 - c3_acc: 0.1517 - c4_acc: 0.1244 - val_loss: 9.4244 - val_c1_loss: 2.3624 - val_c2_loss: 2.3894 - val_c3_loss: 2.3231 - val_c4_loss: 2.3487 - val_c1_acc: 0.0800 - val_c2_acc: 0.0950 - val_c3_acc: 0.1200 - val_c4_acc: 0.1250\n",
      "Epoch 4/10\n",
      "1800/1800 [==============================] - 37s 21ms/sample - loss: 8.8793 - c1_loss: 2.1869 - c2_loss: 2.2215 - c3_loss: 2.2037 - c4_loss: 2.2609 - c1_acc: 0.1878 - c2_acc: 0.1806 - c3_acc: 0.1800 - c4_acc: 0.1644 - val_loss: 9.5413 - val_c1_loss: 2.4012 - val_c2_loss: 2.3969 - val_c3_loss: 2.3540 - val_c4_loss: 2.3893 - val_c1_acc: 0.1000 - val_c2_acc: 0.0800 - val_c3_acc: 0.1350 - val_c4_acc: 0.0950\n",
      "Epoch 5/10\n",
      "1800/1800 [==============================] - 38s 21ms/sample - loss: 8.2844 - c1_loss: 1.9588 - c2_loss: 2.0878 - c3_loss: 2.0942 - c4_loss: 2.1105 - c1_acc: 0.2811 - c2_acc: 0.2383 - c3_acc: 0.2406 - c4_acc: 0.2456 - val_loss: 10.1701 - val_c1_loss: 2.6159 - val_c2_loss: 2.6325 - val_c3_loss: 2.4799 - val_c4_loss: 2.4708 - val_c1_acc: 0.1000 - val_c2_acc: 0.0850 - val_c3_acc: 0.0900 - val_c4_acc: 0.1250\n",
      "Epoch 6/10\n",
      "1800/1800 [==============================] - 39s 22ms/sample - loss: 7.1354 - c1_loss: 1.6399 - c2_loss: 1.8033 - c3_loss: 1.8545 - c4_loss: 1.8673 - c1_acc: 0.4089 - c2_acc: 0.3378 - c3_acc: 0.3106 - c4_acc: 0.3311 - val_loss: 11.5246 - val_c1_loss: 3.2355 - val_c2_loss: 2.7167 - val_c3_loss: 2.8703 - val_c4_loss: 2.7476 - val_c1_acc: 0.1000 - val_c2_acc: 0.1150 - val_c3_acc: 0.0900 - val_c4_acc: 0.1250\n"
     ]
    }
   ],
   "source": [
    "model = train_model(model)"
   ]
  },
  {
   "cell_type": "code",
   "execution_count": 75,
   "metadata": {
    "colab": {},
    "colab_type": "code",
    "id": "tkHHBFgZft-x"
   },
   "outputs": [],
   "source": [
    "def retrain_model(model):\n",
    "    from tensorflow.keras.callbacks import EarlyStopping, CSVLogger, ModelCheckpoint\n",
    "    from tensorflow.keras.optimizers import Adam\n",
    "    model.load_weights('cnn_best.h5')\n",
    "    \n",
    "    callbacks = [EarlyStopping(patience=3), CSVLogger('cnn.csv', append=True), \n",
    "                 ModelCheckpoint('cnn_best.h5', save_best_only=True)]\n",
    "\n",
    "    model.compile(loss='categorical_crossentropy',\n",
    "                  optimizer=Adam(1e-4, amsgrad=True), \n",
    "                  metrics=['accuracy'])\n",
    "    X_train,y_train = get_batch(characters, 10000, n_len, n_class, width, height)\n",
    "    model.fit(X_train, y_train, validation_split=0.1 ,epochs=20, batch_size=128, workers=4, use_multiprocessing=True, callbacks=callbacks)   \n",
    "    return model"
   ]
  },
  {
   "cell_type": "code",
   "execution_count": 76,
   "metadata": {},
   "outputs": [
    {
     "name": "stdout",
     "output_type": "stream",
     "text": [
      "Train on 9000 samples, validate on 1000 samples\n",
      "Epoch 1/20\n",
      "9000/9000 [==============================] - 197s 22ms/sample - loss: 8.1602 - c1_loss: 1.9578 - c2_loss: 2.0366 - c3_loss: 2.0475 - c4_loss: 2.1119 - c1_acc: 0.2617 - c2_acc: 0.2303 - c3_acc: 0.2270 - c4_acc: 0.2032 - val_loss: 9.9647 - val_c1_loss: 2.4783 - val_c2_loss: 2.5620 - val_c3_loss: 2.5095 - val_c4_loss: 2.4189 - val_c1_acc: 0.1110 - val_c2_acc: 0.1040 - val_c3_acc: 0.0920 - val_c4_acc: 0.1070\n",
      "Epoch 2/20\n",
      "9000/9000 [==============================] - 195s 22ms/sample - loss: 5.9985 - c1_loss: 1.3506 - c2_loss: 1.5156 - c3_loss: 1.5161 - c4_loss: 1.6042 - c1_acc: 0.4940 - c2_acc: 0.4340 - c3_acc: 0.4243 - c4_acc: 0.4109 - val_loss: 10.1385 - val_c1_loss: 2.5522 - val_c2_loss: 2.4967 - val_c3_loss: 2.5644 - val_c4_loss: 2.5314 - val_c1_acc: 0.1470 - val_c2_acc: 0.1110 - val_c3_acc: 0.1220 - val_c4_acc: 0.1230\n",
      "Epoch 3/20\n",
      "9000/9000 [==============================] - 199s 22ms/sample - loss: 3.8381 - c1_loss: 0.8084 - c2_loss: 0.9810 - c3_loss: 0.9835 - c4_loss: 1.0592 - c1_acc: 0.7438 - c2_acc: 0.6744 - c3_acc: 0.6793 - c4_acc: 0.6539 - val_loss: 9.5883 - val_c1_loss: 2.3458 - val_c2_loss: 2.3154 - val_c3_loss: 2.5576 - val_c4_loss: 2.3706 - val_c1_acc: 0.1740 - val_c2_acc: 0.1490 - val_c3_acc: 0.1520 - val_c4_acc: 0.1600\n",
      "Epoch 4/20\n",
      "9000/9000 [==============================] - 197s 22ms/sample - loss: 2.2523 - c1_loss: 0.4553 - c2_loss: 0.5817 - c3_loss: 0.5802 - c4_loss: 0.6322 - c1_acc: 0.8756 - c2_acc: 0.8399 - c3_acc: 0.8406 - c4_acc: 0.8310 - val_loss: 7.6060 - val_c1_loss: 1.8622 - val_c2_loss: 1.8838 - val_c3_loss: 2.0219 - val_c4_loss: 1.8360 - val_c1_acc: 0.2920 - val_c2_acc: 0.2710 - val_c3_acc: 0.2380 - val_c4_acc: 0.2560\n",
      "Epoch 5/20\n",
      "9000/9000 [==============================] - 197s 22ms/sample - loss: 1.3348 - c1_loss: 0.2660 - c2_loss: 0.3435 - c3_loss: 0.3515 - c4_loss: 0.3715 - c1_acc: 0.9443 - c2_acc: 0.9269 - c3_acc: 0.9196 - c4_acc: 0.9276 - val_loss: 5.1906 - val_c1_loss: 1.2144 - val_c2_loss: 1.3027 - val_c3_loss: 1.4199 - val_c4_loss: 1.2605 - val_c1_acc: 0.5350 - val_c2_acc: 0.5270 - val_c3_acc: 0.4380 - val_c4_acc: 0.5360\n",
      "Epoch 6/20\n",
      "9000/9000 [==============================] - 196s 22ms/sample - loss: 0.8256 - c1_loss: 0.1658 - c2_loss: 0.2133 - c3_loss: 0.2180 - c4_loss: 0.2274 - c1_acc: 0.9747 - c2_acc: 0.9676 - c3_acc: 0.9674 - c4_acc: 0.9703 - val_loss: 3.9349 - val_c1_loss: 0.9403 - val_c2_loss: 0.9724 - val_c3_loss: 1.0961 - val_c4_loss: 0.9265 - val_c1_acc: 0.6520 - val_c2_acc: 0.6670 - val_c3_acc: 0.6190 - val_c4_acc: 0.6860\n",
      "Epoch 7/20\n",
      "9000/9000 [==============================] - 197s 22ms/sample - loss: 0.5234 - c1_loss: 0.1040 - c2_loss: 0.1342 - c3_loss: 0.1377 - c4_loss: 0.1474 - c1_acc: 0.9933 - c2_acc: 0.9880 - c3_acc: 0.9910 - c4_acc: 0.9892 - val_loss: 2.3716 - val_c1_loss: 0.5069 - val_c2_loss: 0.5965 - val_c3_loss: 0.6540 - val_c4_loss: 0.6081 - val_c1_acc: 0.8390 - val_c2_acc: 0.8170 - val_c3_acc: 0.8060 - val_c4_acc: 0.8290\n",
      "Epoch 8/20\n",
      "9000/9000 [==============================] - 198s 22ms/sample - loss: 0.3475 - c1_loss: 0.0698 - c2_loss: 0.0895 - c3_loss: 0.0913 - c4_loss: 0.0975 - c1_acc: 0.9978 - c2_acc: 0.9971 - c3_acc: 0.9974 - c4_acc: 0.9980 - val_loss: 1.6820 - val_c1_loss: 0.3441 - val_c2_loss: 0.4221 - val_c3_loss: 0.4649 - val_c4_loss: 0.4499 - val_c1_acc: 0.8960 - val_c2_acc: 0.8750 - val_c3_acc: 0.8530 - val_c4_acc: 0.8780\n",
      "Epoch 9/20\n",
      "9000/9000 [==============================] - 197s 22ms/sample - loss: 0.2450 - c1_loss: 0.0494 - c2_loss: 0.0619 - c3_loss: 0.0648 - c4_loss: 0.0687 - c1_acc: 1.0000 - c2_acc: 0.9996 - c3_acc: 0.9994 - c4_acc: 0.9998 - val_loss: 1.3208 - val_c1_loss: 0.2650 - val_c2_loss: 0.3274 - val_c3_loss: 0.3765 - val_c4_loss: 0.3517 - val_c1_acc: 0.9220 - val_c2_acc: 0.9100 - val_c3_acc: 0.8900 - val_c4_acc: 0.9040\n",
      "Epoch 10/20\n",
      "9000/9000 [==============================] - 197s 22ms/sample - loss: 0.1814 - c1_loss: 0.0369 - c2_loss: 0.0457 - c3_loss: 0.0477 - c4_loss: 0.0516 - c1_acc: 1.0000 - c2_acc: 0.9999 - c3_acc: 0.9999 - c4_acc: 1.0000 - val_loss: 1.2386 - val_c1_loss: 0.2417 - val_c2_loss: 0.3009 - val_c3_loss: 0.3552 - val_c4_loss: 0.3368 - val_c1_acc: 0.9190 - val_c2_acc: 0.9160 - val_c3_acc: 0.8940 - val_c4_acc: 0.9060\n",
      "Epoch 11/20\n",
      "9000/9000 [==============================] - 185s 21ms/sample - loss: 0.1401 - c1_loss: 0.0287 - c2_loss: 0.0353 - c3_loss: 0.0365 - c4_loss: 0.0395 - c1_acc: 1.0000 - c2_acc: 1.0000 - c3_acc: 1.0000 - c4_acc: 1.0000 - val_loss: 1.1019 - val_c1_loss: 0.2110 - val_c2_loss: 0.2681 - val_c3_loss: 0.3161 - val_c4_loss: 0.3040 - val_c1_acc: 0.9310 - val_c2_acc: 0.9200 - val_c3_acc: 0.9030 - val_c4_acc: 0.9060\n",
      "Epoch 12/20\n",
      "9000/9000 [==============================] - 194s 22ms/sample - loss: 0.1136 - c1_loss: 0.0236 - c2_loss: 0.0286 - c3_loss: 0.0296 - c4_loss: 0.0320 - c1_acc: 1.0000 - c2_acc: 1.0000 - c3_acc: 1.0000 - c4_acc: 1.0000 - val_loss: 1.0492 - val_c1_loss: 0.2033 - val_c2_loss: 0.2581 - val_c3_loss: 0.2973 - val_c4_loss: 0.2956 - val_c1_acc: 0.9340 - val_c2_acc: 0.9160 - val_c3_acc: 0.9180 - val_c4_acc: 0.9100\n",
      "Epoch 13/20\n",
      "9000/9000 [==============================] - 196s 22ms/sample - loss: 0.0944 - c1_loss: 0.0197 - c2_loss: 0.0235 - c3_loss: 0.0247 - c4_loss: 0.0265 - c1_acc: 1.0000 - c2_acc: 1.0000 - c3_acc: 1.0000 - c4_acc: 1.0000 - val_loss: 1.0138 - val_c1_loss: 0.1971 - val_c2_loss: 0.2453 - val_c3_loss: 0.2951 - val_c4_loss: 0.2755 - val_c1_acc: 0.9340 - val_c2_acc: 0.9190 - val_c3_acc: 0.9040 - val_c4_acc: 0.9190\n",
      "Epoch 14/20\n",
      "9000/9000 [==============================] - 200s 22ms/sample - loss: 0.0802 - c1_loss: 0.0167 - c2_loss: 0.0199 - c3_loss: 0.0208 - c4_loss: 0.0226 - c1_acc: 1.0000 - c2_acc: 1.0000 - c3_acc: 1.0000 - c4_acc: 1.0000 - val_loss: 0.9681 - val_c1_loss: 0.1858 - val_c2_loss: 0.2356 - val_c3_loss: 0.2746 - val_c4_loss: 0.2748 - val_c1_acc: 0.9410 - val_c2_acc: 0.9230 - val_c3_acc: 0.9180 - val_c4_acc: 0.9220\n",
      "Epoch 15/20\n",
      "9000/9000 [==============================] - 197s 22ms/sample - loss: 0.0695 - c1_loss: 0.0146 - c2_loss: 0.0174 - c3_loss: 0.0181 - c4_loss: 0.0194 - c1_acc: 1.0000 - c2_acc: 1.0000 - c3_acc: 1.0000 - c4_acc: 1.0000 - val_loss: 0.9513 - val_c1_loss: 0.1829 - val_c2_loss: 0.2281 - val_c3_loss: 0.2778 - val_c4_loss: 0.2624 - val_c1_acc: 0.9380 - val_c2_acc: 0.9270 - val_c3_acc: 0.9160 - val_c4_acc: 0.9200\n",
      "Epoch 16/20\n",
      "9000/9000 [==============================] - 203s 23ms/sample - loss: 0.0610 - c1_loss: 0.0129 - c2_loss: 0.0152 - c3_loss: 0.0158 - c4_loss: 0.0172 - c1_acc: 1.0000 - c2_acc: 1.0000 - c3_acc: 1.0000 - c4_acc: 1.0000 - val_loss: 0.9167 - val_c1_loss: 0.1748 - val_c2_loss: 0.2242 - val_c3_loss: 0.2574 - val_c4_loss: 0.2588 - val_c1_acc: 0.9430 - val_c2_acc: 0.9270 - val_c3_acc: 0.9240 - val_c4_acc: 0.9180\n",
      "Epoch 17/20\n",
      "9000/9000 [==============================] - 198s 22ms/sample - loss: 0.0544 - c1_loss: 0.0116 - c2_loss: 0.0135 - c3_loss: 0.0141 - c4_loss: 0.0151 - c1_acc: 1.0000 - c2_acc: 1.0000 - c3_acc: 1.0000 - c4_acc: 1.0000 - val_loss: 0.9316 - val_c1_loss: 0.1781 - val_c2_loss: 0.2302 - val_c3_loss: 0.2593 - val_c4_loss: 0.2647 - val_c1_acc: 0.9420 - val_c2_acc: 0.9260 - val_c3_acc: 0.9210 - val_c4_acc: 0.9180\n",
      "Epoch 18/20\n",
      "9000/9000 [==============================] - 198s 22ms/sample - loss: 0.0487 - c1_loss: 0.0103 - c2_loss: 0.0121 - c3_loss: 0.0127 - c4_loss: 0.0137 - c1_acc: 1.0000 - c2_acc: 1.0000 - c3_acc: 1.0000 - c4_acc: 1.0000 - val_loss: 0.8899 - val_c1_loss: 0.1727 - val_c2_loss: 0.2174 - val_c3_loss: 0.2529 - val_c4_loss: 0.2500 - val_c1_acc: 0.9450 - val_c2_acc: 0.9310 - val_c3_acc: 0.9230 - val_c4_acc: 0.9220\n",
      "Epoch 19/20\n",
      "9000/9000 [==============================] - 198s 22ms/sample - loss: 0.0442 - c1_loss: 0.0093 - c2_loss: 0.0109 - c3_loss: 0.0116 - c4_loss: 0.0124 - c1_acc: 1.0000 - c2_acc: 1.0000 - c3_acc: 1.0000 - c4_acc: 1.0000 - val_loss: 0.8766 - val_c1_loss: 0.1680 - val_c2_loss: 0.2113 - val_c3_loss: 0.2542 - val_c4_loss: 0.2460 - val_c1_acc: 0.9460 - val_c2_acc: 0.9320 - val_c3_acc: 0.9230 - val_c4_acc: 0.9270\n",
      "Epoch 20/20\n"
     ]
    },
    {
     "name": "stdout",
     "output_type": "stream",
     "text": [
      "9000/9000 [==============================] - 201s 22ms/sample - loss: 0.0402 - c1_loss: 0.0086 - c2_loss: 0.0099 - c3_loss: 0.0105 - c4_loss: 0.0113 - c1_acc: 1.0000 - c2_acc: 1.0000 - c3_acc: 1.0000 - c4_acc: 1.0000 - val_loss: 0.8736 - val_c1_loss: 0.1665 - val_c2_loss: 0.2097 - val_c3_loss: 0.2490 - val_c4_loss: 0.2498 - val_c1_acc: 0.9430 - val_c2_acc: 0.9290 - val_c3_acc: 0.9230 - val_c4_acc: 0.9260\n"
     ]
    }
   ],
   "source": [
    "#retrain with cnn_best.h5\n",
    "model = retrain_model(model)"
   ]
  },
  {
   "cell_type": "code",
   "execution_count": 101,
   "metadata": {
    "colab": {},
    "colab_type": "code",
    "id": "g70gHoo2fv6o"
   },
   "outputs": [
    {
     "data": {
      "text/plain": [
       "(-0.5, 119.5, 36.5, -0.5)"
      ]
     },
     "execution_count": 101,
     "metadata": {},
     "output_type": "execute_result"
    },
    {
     "data": {
      "image/png": "[encoded data removed]",
      "text/plain": [
       "<Figure size 432x288 with 1 Axes>"
      ]
     },
     "metadata": {
      "image/png": {
       "height": 147,
       "width": 349
      },
      "needs_background": "light"
     },
     "output_type": "display_data"
    }
   ],
   "source": [
    "model.load_weights('cnn_best.h5')\n",
    "\n",
    "#test model\n",
    "X,y = get_batch(characters, 1, n_len, n_class, width, height)\n",
    "y_pred = model.predict(X)\n",
    "plt.title('real: %s\\npred:%s'%(decode(y), decode(y_pred)))\n",
    "plt.imshow(X[0].reshape(height,width), cmap='gray')\n",
    "plt.axis('off')"
   ]
  },
  {
   "cell_type": "code",
   "execution_count": 104,
   "metadata": {
    "colab": {},
    "colab_type": "code",
    "id": "oz32XAzTf5PR"
   },
   "outputs": [],
   "source": [
    "#evaluate\n",
    "# def evaluate(model, batch_num=1000):\n",
    "#     batch_acc = 0\n",
    "#     X,y = get_batch(characters, batch_num, n_len, n_class, width, height)\n",
    "\n",
    "#     y_pred = model.predict(X)\n",
    "#     y_pred = np.argmax(y_pred, axis=-1).T\n",
    "#     y_true = np.argmax(y, axis=-1).T\n",
    "\n",
    "#     batch_acc += (y_true == y_pred).all(axis=-1).mean()\n",
    "#     return batch_acc / batch_num\n",
    "\n",
    "# evaluate(model)"
   ]
  },
  {
   "cell_type": "code",
   "execution_count": 102,
   "metadata": {},
   "outputs": [
    {
     "name": "stdout",
     "output_type": "stream",
     "text": [
      "['C:\\\\Users\\\\dell\\\\Desktop\\\\VScodePlayGround\\\\captcha_break\\\\test\\\\3996.jpg', 'C:\\\\Users\\\\dell\\\\Desktop\\\\VScodePlayGround\\\\captcha_break\\\\test\\\\3996.png']\n"
     ]
    }
   ],
   "source": [
    "test_imgs = os.getcwd() + \"\\\\test\"\n",
    "img_names = []\n",
    "for file_name in os.listdir(test_imgs):\n",
    "    if file_name[-3:] in ['jpg', 'png']:\n",
    "        img_names.append(file_name)\n",
    "\n",
    "img_paths = [test_imgs+\"\\\\\"+img_name for img_name in img_names]\n",
    "print(img_paths[:2])"
   ]
  },
  {
   "cell_type": "code",
   "execution_count": 103,
   "metadata": {},
   "outputs": [
    {
     "name": "stderr",
     "output_type": "stream",
     "text": [
      "D:\\dev_tools\\Anaconda3_2019.07\\lib\\site-packages\\tensorflow\\python\\keras\\api\\_v1\\keras\\layers\\__init__.py:9: MatplotlibDeprecationWarning: Adding an axes using the same arguments as a previous axes currently reuses the earlier instance.  In a future version, a new instance will always be created and returned.  Meanwhile, this warning can be suppressed, and the future behavior ensured, by passing a unique label to each axes instance.\n",
      "  from tensorflow.python.feature_column.feature_column_lib import Layer\n"
     ]
    },
    {
     "data": {
      "image/png": "[encoded data removed]",
      "text/plain": [
       "<Figure size 432x288 with 10 Axes>"
      ]
     },
     "metadata": {
      "image/png": {
       "height": 247,
       "width": 318
      },
      "needs_background": "light"
     },
     "output_type": "display_data"
    }
   ],
   "source": [
    "for i,img_path in enumerate(img_paths[:10]):    \n",
    "    img = Image.open(img_path).convert('L')\n",
    "    img = img.resize((width, height))\n",
    "    x = np.array(img).reshape(height,width,1) / 255.0\n",
    "    x = x[np.newaxis,:]\n",
    "    y_pred = model.predict(x)\n",
    "    x.shape\n",
    "    plt.subplot(5,2,i+1).title.set_text('pred:%s'%(decode(y_pred)))\n",
    "    plt.subplot(5,2,i+1).imshow(x[0].reshape(height,width), cmap='gray')\n",
    "    plt.axis('off')"
   ]
  },
  {
   "cell_type": "code",
   "execution_count": null,
   "metadata": {},
   "outputs": [],
   "source": []
  }
 ],
 "metadata": {
  "accelerator": "GPU",
  "colab": {
   "collapsed_sections": [],
   "name": "captcha_break_test.ipynb",
   "private_outputs": true,
   "provenance": [],
   "version": "0.3.2"
  },
  "kernelspec": {
   "display_name": "Python 3",
   "language": "python",
   "name": "python3"
  },
  "language_info": {
   "codemirror_mode": {
    "name": "ipython",
    "version": 3
   },
   "file_extension": ".py",
   "mimetype": "text/x-python",
   "name": "python",
   "nbconvert_exporter": "python",
   "pygments_lexer": "ipython3",
   "version": "3.7.3"
  }
 },
 "nbformat": 4,
 "nbformat_minor": 1
}
